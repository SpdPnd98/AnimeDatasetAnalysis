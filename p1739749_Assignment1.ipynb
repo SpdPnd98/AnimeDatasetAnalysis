{
 "cells": [
  {
   "cell_type": "markdown",
   "metadata": {},
   "source": [
    "# Lab 3 Assignment 1\n",
    "\n",
    "## Introduction\n",
    "\n",
    "In today's day and age, we are exposed to a diverse and global culture. Among them, there is this niche category of Japanese cultured people called `Otaku`s. They are basically people that hide in their rooms all day just to finish their favorite movie episodes in which they call it **anime**, a slang/abbriviation from the term <u>animation</u> and adapted to japanese. \n",
    "\n",
    "This culture, in fact, has grown to be quite solid and stable. Hence is actually a pretty niche and exciting market to tackle it.\n",
    "\n",
    "If we were to target this group of people, what should we look out for? What kinds of movies do `Otaku`s prefer? As a business, how do we effectively earn money from these group of potentially international market?\n",
    "\n",
    "Today, an attempt of prediction(s) shall be made based on an open anime review/ratings dataset from kaggle.com. The main need for this Lab Assignment is to use Regression and Classification to solve one problem. Below I will explain my rationale for the methods I have chosen."
   ]
  },
  {
   "cell_type": "markdown",
   "metadata": {},
   "source": [
    "## Step 1: Data Gathering\n",
    "\n",
    "Usually this is the hardest step. I chose this dataset because I am interested to see if there is any correlation between nember of episodes, types of show, genre etc with the popularity/rating of a general anime.\n",
    "\n",
    "This is the dataset that I will be using throughout the assignment: <a href='https://www.kaggle.com/CooperUnion/anime-recommendations-database/downloads/anime-recommendations-database.zip/1'> anime dataset </a>, Thanks for making the data publically available for everyone."
   ]
  },
  {
   "cell_type": "code",
   "execution_count": 1,
   "metadata": {},
   "outputs": [],
   "source": [
    "import pandas as pd \n",
    "from sklearn.linear_model import LinearRegression\n",
    "import matplotlib.pyplot as plt\n",
    "import statsmodels.api as sm\n",
    "from sklearn.model_selection import train_test_split\n",
    "\n",
    "# load the dataset \"anime.csv\"\n",
    "dataset = pd.read_csv(\"~/codes/NN_Python/Dataset/anime.csv\")"
   ]
  },
  {
   "cell_type": "markdown",
   "metadata": {},
   "source": [
    "Now let us take a look at the datset:"
   ]
  },
  {
   "cell_type": "code",
   "execution_count": 2,
   "metadata": {},
   "outputs": [
    {
     "name": "stdout",
     "output_type": "stream",
     "text": [
      "   anime_id                              name  \\\n",
      "0     32281                    Kimi no Na wa.   \n",
      "1      5114  Fullmetal Alchemist: Brotherhood   \n",
      "2     28977                          Gintama°   \n",
      "3      9253                       Steins;Gate   \n",
      "4      9969                     Gintama&#039;   \n",
      "\n",
      "                                               genre   type episodes  rating  \\\n",
      "0               Drama, Romance, School, Supernatural  Movie        1    9.37   \n",
      "1  Action, Adventure, Drama, Fantasy, Magic, Mili...     TV       64    9.26   \n",
      "2  Action, Comedy, Historical, Parody, Samurai, S...     TV       51    9.25   \n",
      "3                                   Sci-Fi, Thriller     TV       24    9.17   \n",
      "4  Action, Comedy, Historical, Parody, Samurai, S...     TV       51    9.16   \n",
      "\n",
      "   members  \n",
      "0   200630  \n",
      "1   793665  \n",
      "2   114262  \n",
      "3   673572  \n",
      "4   151266  \n"
     ]
    }
   ],
   "source": [
    "# Dataset first 5\n",
    "print(dataset.head(5))"
   ]
  },
  {
   "cell_type": "code",
   "execution_count": 3,
   "metadata": {},
   "outputs": [
    {
     "name": "stdout",
     "output_type": "stream",
     "text": [
      "Index(['anime_id', 'name', 'genre', 'type', 'episodes', 'rating', 'members'], dtype='object')\n"
     ]
    }
   ],
   "source": [
    "# observing the dataset column names\n",
    "print(dataset.columns)"
   ]
  },
  {
   "cell_type": "markdown",
   "metadata": {},
   "source": [
    "# Part One: Regression"
   ]
  },
  {
   "cell_type": "markdown",
   "metadata": {},
   "source": [
    "## Step 2: Data Preprocessing\n",
    "\n",
    "Yay, we have our dataset! Jolly well we are gonna just throw everything and yolo it hahahaha. **NO!** Remeber to always preprocess your data before doing anything to it!!! This is an integral step in any Machine Learning process. Here, we take a closer look at the dataset."
   ]
  },
  {
   "cell_type": "code",
   "execution_count": 4,
   "metadata": {},
   "outputs": [
    {
     "data": {
      "text/plain": [
       "anime_id      0\n",
       "name          0\n",
       "genre        62\n",
       "type         25\n",
       "episodes      0\n",
       "rating      230\n",
       "members       0\n",
       "dtype: int64"
      ]
     },
     "execution_count": 4,
     "metadata": {},
     "output_type": "execute_result"
    }
   ],
   "source": [
    "# checking for null datapoints\n",
    "pd.isnull(dataset).sum()"
   ]
  },
  {
   "cell_type": "markdown",
   "metadata": {},
   "source": [
    "Here, we can observe that some datapoints do not exist! Throwing this datset directly into any model will not produce legitamate results!!! \n",
    "The quickest and dirtiest method is to remove the rows containing the null datapoints. So let's remove the null datapoints and see what happens:"
   ]
  },
  {
   "cell_type": "code",
   "execution_count": 5,
   "metadata": {},
   "outputs": [],
   "source": [
    "# Removing null datapoints\n",
    "modified_dataset = dataset.dropna()"
   ]
  },
  {
   "cell_type": "markdown",
   "metadata": {},
   "source": [
    "Upon further inspectin, I have found out something weird about the episode column. Some anime such as `One Piece`, `Detective Conan`, `Dragon Ball Super`, etc have episode count as `Unknown`. This is because at the time the dataset was scrutinized, the anime has not finish airing, some of them even until now, are still good shows in the making.\n",
    "\n",
    "Hence, I have decided to exclude them from the dataset and only do analysis and prediction based on \"historical data\". "
   ]
  },
  {
   "cell_type": "code",
   "execution_count": 6,
   "metadata": {},
   "outputs": [],
   "source": [
    "modified_dataset = modified_dataset[~modified_dataset.episodes.str.contains('Unknown')]"
   ]
  },
  {
   "cell_type": "markdown",
   "metadata": {},
   "source": [
    "Next, I have decided to use categorical data to do linear regression. Is it advisable? I'm not sure. However, after some thoughts, I can use the independent variables as stepwise functions to take values of only one or 0. This means that I cannot make very accurate models since my datapoints only take `1` or `0` values, solely relying on the weights to alter the ratings. "
   ]
  },
  {
   "cell_type": "markdown",
   "metadata": {},
   "source": [
    "Regardless, here are the steps I have taken to change all the categorical data into something called `dummy variables`"
   ]
  },
  {
   "cell_type": "code",
   "execution_count": 7,
   "metadata": {},
   "outputs": [],
   "source": [
    "# Splitting the 'genre' column and type column\n",
    "genres = modified_dataset['genre'].str.get_dummies(', ').astype(int)\n",
    "types = modified_dataset['type'].str.get_dummies(', ').astype(int)"
   ]
  },
  {
   "cell_type": "markdown",
   "metadata": {},
   "source": [
    "Upon inspection, the `genre` had a `Music` type, and `types` had a `Music` type as well. From the prespective of capturing as much variables as possible, I would like to maintain both variables and hence decide to rename the columns of `types`:"
   ]
  },
  {
   "cell_type": "code",
   "execution_count": 8,
   "metadata": {},
   "outputs": [],
   "source": [
    "# Upon inspection the type had music as type, and music as genre. Rename column\n",
    "types.columns = ['Movie', 'Music1', 'ONA', 'OVA', 'Special', 'TV']"
   ]
  },
  {
   "cell_type": "markdown",
   "metadata": {},
   "source": [
    "Finally let us create the final input variables as `inp` and output variables as `label`, and also create `train-test` set of ratio `9:1`:"
   ]
  },
  {
   "cell_type": "code",
   "execution_count": 9,
   "metadata": {},
   "outputs": [],
   "source": [
    "# Combining to form inp variables\n",
    "inp = genres.join(types)\n",
    "# creating train test split\n",
    "inp_train, inp_test, label_train, label_test = train_test_split(inp, \n",
    "            modified_dataset[['rating']], test_size = 0.1, random_state = 1509)"
   ]
  },
  {
   "cell_type": "markdown",
   "metadata": {},
   "source": [
    "For now, we are done.  This is one of the most tedious parts. Hopefully this step is sufficient in making good predictions"
   ]
  },
  {
   "cell_type": "markdown",
   "metadata": {},
   "source": [
    "## Step 3: Choosing a model\n",
    "\n",
    "So far it has been a pretty simple journey, we picked our dataset, cleaned it and hope its good. The only way to validate is to choose a proper model and evaluate it. In Lab 3, we are exposed to `linear regression`, we will be using a variant called the `multivariable linear regression`, and for classification (pending...)"
   ]
  },
  {
   "cell_type": "markdown",
   "metadata": {},
   "source": [
    "In any `linear regression` algorithm, the most important metric is the `MSE` and the `R-squared` values, on both the `train` and `test` dataset.(`test` in this case can be either `test` or `validation` since they serve the same purpose for now)\n",
    "\n",
    "In the next step, we try a few combos and see if we can find any correlation between variables."
   ]
  },
  {
   "cell_type": "markdown",
   "metadata": {},
   "source": [
    "## Step 4: Training\n",
    "\n",
    "Finally, we can start to train! This is one of the shortest step since:"
   ]
  },
  {
   "cell_type": "code",
   "execution_count": 10,
   "metadata": {},
   "outputs": [
    {
     "name": "stdout",
     "output_type": "stream",
     "text": [
      "LinearRegression(copy_X=True, fit_intercept=True, n_jobs=None,\n",
      "         normalize=False)\n"
     ]
    }
   ],
   "source": [
    "# Question 1: is the rating of the movie based on genre and type?\n",
    "linear_model = LinearRegression().fit(inp_train,label_train)\n",
    "print(linear_model)"
   ]
  },
  {
   "cell_type": "markdown",
   "metadata": {},
   "source": [
    "## Step 5: Evaluating\n",
    "\n",
    "Wow that was quick eh, training is done. So, here we attempt to see if the model is trained properly or if our hypothesis even stands."
   ]
  },
  {
   "cell_type": "markdown",
   "metadata": {},
   "source": [
    "According to our explanation earlier, we will mainly use the `R-squared` values to see if the line fits the model. Statistically speaking, if it is closer to `0`, there is no correlation to the output variables, if it is closer to `1`, it will have stronger correlation to the output variable.\n",
    "\n",
    "First, let's test it with itself."
   ]
  },
  {
   "cell_type": "code",
   "execution_count": 11,
   "metadata": {},
   "outputs": [
    {
     "data": {
      "text/plain": [
       "0.3253542294194377"
      ]
     },
     "execution_count": 11,
     "metadata": {},
     "output_type": "execute_result"
    }
   ],
   "source": [
    "# checking R^2 values of train dataset\n",
    "linear_model.score(inp_train, label_train)"
   ]
  },
  {
   "cell_type": "markdown",
   "metadata": {},
   "source": [
    "The `R-squared` values is **0.3253542294194377**."
   ]
  },
  {
   "cell_type": "markdown",
   "metadata": {},
   "source": [
    "Next, let's test it against the `test` dataset"
   ]
  },
  {
   "cell_type": "code",
   "execution_count": 12,
   "metadata": {},
   "outputs": [
    {
     "data": {
      "text/plain": [
       "0.3106783693263454"
      ]
     },
     "execution_count": 12,
     "metadata": {},
     "output_type": "execute_result"
    }
   ],
   "source": [
    "# checking R^2 values of test dataset\n",
    "linear_model.score(inp_test, label_test)"
   ]
  },
  {
   "cell_type": "markdown",
   "metadata": {},
   "source": [
    "The `R-squared` values is **0.3106783693263454**."
   ]
  },
  {
   "cell_type": "markdown",
   "metadata": {},
   "source": [
    "After poking around online, I have found out how to remove the irrelevant variables with a different library, "
   ]
  },
  {
   "cell_type": "code",
   "execution_count": 13,
   "metadata": {},
   "outputs": [
    {
     "name": "stdout",
     "output_type": "stream",
     "text": [
      "                            OLS Regression Results                            \n",
      "==============================================================================\n",
      "Dep. Variable:                 rating   R-squared:                       0.295\n",
      "Model:                            OLS   Adj. R-squared:                  0.292\n",
      "Method:                 Least Squares   F-statistic:                     92.38\n",
      "Date:                Sun, 19 May 2019   Prob (F-statistic):               0.00\n",
      "Time:                        23:55:12   Log-Likelihood:                -13835.\n",
      "No. Observations:               10647   AIC:                         2.777e+04\n",
      "Df Residuals:                   10598   BIC:                         2.812e+04\n",
      "Df Model:                          48                                         \n",
      "Covariance Type:            nonrobust                                         \n",
      "=================================================================================\n",
      "                    coef    std err          t      P>|t|      [0.025      0.975]\n",
      "---------------------------------------------------------------------------------\n",
      "const             4.5655      0.021    219.268      0.000       4.525       4.606\n",
      "Action            0.1400      0.024      5.722      0.000       0.092       0.188\n",
      "Adventure         0.1299      0.024      5.300      0.000       0.082       0.178\n",
      "Cars             -0.0643      0.110     -0.583      0.560      -0.280       0.152\n",
      "Comedy            0.1410      0.021      6.742      0.000       0.100       0.182\n",
      "Dementia         -0.9396      0.065    -14.562      0.000      -1.066      -0.813\n",
      "Demons           -0.1039      0.059     -1.747      0.081      -0.220       0.013\n",
      "Drama             0.4721      0.025     18.708      0.000       0.423       0.522\n",
      "Ecchi            -0.0692      0.042     -1.647      0.100      -0.152       0.013\n",
      "Fantasy           0.2414      0.025      9.751      0.000       0.193       0.290\n",
      "Game              0.1848      0.074      2.496      0.013       0.040       0.330\n",
      "Harem             0.0959      0.059      1.631      0.103      -0.019       0.211\n",
      "Hentai            0.1392      0.039      3.543      0.000       0.062       0.216\n",
      "Historical        0.2326      0.038      6.189      0.000       0.159       0.306\n",
      "Horror           -0.1551      0.054     -2.864      0.004      -0.261      -0.049\n",
      "Josei             0.5729      0.129      4.431      0.000       0.319       0.826\n",
      "Kids             -0.1622      0.028     -5.770      0.000      -0.217      -0.107\n",
      "Magic             0.0712      0.038      1.884      0.060      -0.003       0.145\n",
      "Martial Arts      0.0197      0.063      0.312      0.755      -0.104       0.143\n",
      "Mecha            -0.0437      0.038     -1.148      0.251      -0.118       0.031\n",
      "Military          0.3570      0.051      6.961      0.000       0.256       0.458\n",
      "Music             0.0801      0.052      1.539      0.124      -0.022       0.182\n",
      "Mystery           0.4777      0.048      9.982      0.000       0.384       0.572\n",
      "Parody            0.1673      0.050      3.375      0.001       0.070       0.265\n",
      "Police            0.3573      0.072      4.970      0.000       0.216       0.498\n",
      "Psychological     0.3310      0.067      4.929      0.000       0.199       0.463\n",
      "Romance           0.2139      0.030      7.064      0.000       0.155       0.273\n",
      "Samurai           0.0572      0.083      0.687      0.492      -0.106       0.220\n",
      "School            0.3375      0.031     10.733      0.000       0.276       0.399\n",
      "Sci-Fi            0.1528      0.028      5.419      0.000       0.098       0.208\n",
      "Seinen            0.3131      0.043      7.233      0.000       0.228       0.398\n",
      "Shoujo            0.1772      0.043      4.141      0.000       0.093       0.261\n",
      "Shoujo Ai         0.1119      0.132      0.851      0.395      -0.146       0.370\n",
      "Shounen           0.4026      0.028     14.517      0.000       0.348       0.457\n",
      "Shounen Ai        0.2159      0.124      1.738      0.082      -0.028       0.459\n",
      "Slice of Life     0.2046      0.031      6.540      0.000       0.143       0.266\n",
      "Space             0.0115      0.054      0.213      0.831      -0.094       0.117\n",
      "Sports            0.1643      0.045      3.622      0.000       0.075       0.253\n",
      "Super Power       0.1527      0.048      3.186      0.001       0.059       0.247\n",
      "Supernatural      0.2690      0.034      7.797      0.000       0.201       0.337\n",
      "Thriller          0.4895      0.106      4.611      0.000       0.281       0.698\n",
      "Vampire           0.1439      0.101      1.426      0.154      -0.054       0.342\n",
      "Yaoi              0.0182      0.159      0.115      0.909      -0.294       0.330\n",
      "Yuri             -0.1036      0.148     -0.698      0.485      -0.394       0.187\n",
      "Movie             0.8594      0.022     39.563      0.000       0.817       0.902\n",
      "Music1            0.3962      0.057      6.965      0.000       0.285       0.508\n",
      "ONA               0.2698      0.035      7.820      0.000       0.202       0.337\n",
      "OVA               0.8736      0.022     40.184      0.000       0.831       0.916\n",
      "Special           0.9515      0.023     40.666      0.000       0.906       0.997\n",
      "TV                1.2149      0.020     61.423      0.000       1.176       1.254\n",
      "==============================================================================\n",
      "Omnibus:                      302.202   Durbin-Watson:                   1.976\n",
      "Prob(Omnibus):                  0.000   Jarque-Bera (JB):              449.501\n",
      "Skew:                          -0.293   Prob(JB):                     2.47e-98\n",
      "Kurtosis:                       3.818   Cond. No.                     5.16e+15\n",
      "==============================================================================\n",
      "\n",
      "Warnings:\n",
      "[1] Standard Errors assume that the covariance matrix of the errors is correctly specified.\n",
      "[2] The smallest eigenvalue is 6.99e-28. This might indicate that there are\n",
      "strong multicollinearity problems or that the design matrix is singular.\n"
     ]
    },
    {
     "name": "stderr",
     "output_type": "stream",
     "text": [
      "/home/spdpnd98/anaconda3/lib/python3.7/site-packages/numpy/core/fromnumeric.py:2389: FutureWarning: Method .ptp is deprecated and will be removed in a future version. Use numpy.ptp instead.\n",
      "  return ptp(axis=axis, out=out, **kwargs)\n"
     ]
    }
   ],
   "source": [
    "# all the models above do not give good result? why? This is my evaluation method\n",
    "X = sm.add_constant(inp_train.astype(float))\n",
    "Y = label_train.astype(int)\n",
    "est = sm.OLS(Y, X)\n",
    "est2 = est.fit()\n",
    "print(est2.summary())"
   ]
  },
  {
   "cell_type": "markdown",
   "metadata": {},
   "source": [
    "The p-values actually test against the null hypothesis. So the \"outliers\" are actually allowing us to reject the null hypothesis such that the variables have linear relationship with the ratings"
   ]
  },
  {
   "cell_type": "code",
   "execution_count": 14,
   "metadata": {},
   "outputs": [],
   "source": [
    "# dropping columns that are irrelevant(?), high p values\n",
    "inp_train_modified = inp_train.drop(columns=['Cars','Demons', 'Ecchi', 'Harem', 'Magic', 'Martial Arts', 'Mecha', 'Music', 'Samurai', 'Shoujo Ai', 'Space', 'Vampire', 'Yaoi', 'Yuri', 'Shounen Ai'])\n",
    "inp_test_modified = inp_test.drop(columns=['Cars','Demons', 'Ecchi', 'Harem', 'Magic', 'Martial Arts', 'Mecha', 'Music', 'Samurai', 'Shoujo Ai', 'Space', 'Vampire', 'Yaoi', 'Yuri', 'Shounen Ai'])"
   ]
  },
  {
   "cell_type": "code",
   "execution_count": 15,
   "metadata": {},
   "outputs": [
    {
     "name": "stdout",
     "output_type": "stream",
     "text": [
      "                            OLS Regression Results                            \n",
      "==============================================================================\n",
      "Dep. Variable:                 rating   R-squared:                       0.294\n",
      "Model:                            OLS   Adj. R-squared:                  0.291\n",
      "Method:                 Least Squares   F-statistic:                     133.7\n",
      "Date:                Sun, 19 May 2019   Prob (F-statistic):               0.00\n",
      "Time:                        23:55:12   Log-Likelihood:                -13845.\n",
      "No. Observations:               10647   AIC:                         2.776e+04\n",
      "Df Residuals:                   10613   BIC:                         2.801e+04\n",
      "Df Model:                          33                                         \n",
      "Covariance Type:            nonrobust                                         \n",
      "=================================================================================\n",
      "                    coef    std err          t      P>|t|      [0.025      0.975]\n",
      "---------------------------------------------------------------------------------\n",
      "const             4.5813      0.018    260.892      0.000       4.547       4.616\n",
      "Action            0.1373      0.024      5.769      0.000       0.091       0.184\n",
      "Adventure         0.1271      0.024      5.207      0.000       0.079       0.175\n",
      "Comedy            0.1404      0.021      6.819      0.000       0.100       0.181\n",
      "Dementia         -0.9380      0.064    -14.549      0.000      -1.064      -0.812\n",
      "Drama             0.4772      0.025     19.034      0.000       0.428       0.526\n",
      "Fantasy           0.2474      0.024     10.285      0.000       0.200       0.295\n",
      "Game              0.1762      0.074      2.384      0.017       0.031       0.321\n",
      "Hentai            0.1329      0.038      3.453      0.001       0.057       0.208\n",
      "Historical        0.2329      0.036      6.458      0.000       0.162       0.304\n",
      "Horror           -0.1628      0.053     -3.054      0.002      -0.267      -0.058\n",
      "Josei             0.5831      0.129      4.527      0.000       0.331       0.836\n",
      "Kids             -0.1658      0.028     -5.938      0.000      -0.221      -0.111\n",
      "Military          0.3449      0.050      6.964      0.000       0.248       0.442\n",
      "Mystery           0.4813      0.048     10.106      0.000       0.388       0.575\n",
      "Parody            0.1668      0.049      3.370      0.001       0.070       0.264\n",
      "Police            0.3511      0.072      4.893      0.000       0.210       0.492\n",
      "Psychological     0.3311      0.067      4.940      0.000       0.200       0.462\n",
      "Romance           0.2248      0.029      7.748      0.000       0.168       0.282\n",
      "School            0.3407      0.031     11.002      0.000       0.280       0.401\n",
      "Sci-Fi            0.1393      0.026      5.414      0.000       0.089       0.190\n",
      "Seinen            0.3037      0.043      7.075      0.000       0.220       0.388\n",
      "Shoujo            0.2022      0.042      4.846      0.000       0.120       0.284\n",
      "Shounen           0.4003      0.028     14.494      0.000       0.346       0.454\n",
      "Slice of Life     0.2024      0.031      6.522      0.000       0.142       0.263\n",
      "Sports            0.1528      0.045      3.429      0.001       0.065       0.240\n",
      "Super Power       0.1537      0.047      3.265      0.001       0.061       0.246\n",
      "Supernatural      0.2675      0.033      7.989      0.000       0.202       0.333\n",
      "Thriller          0.4907      0.106      4.626      0.000       0.283       0.699\n",
      "Movie             0.8489      0.021     40.900      0.000       0.808       0.890\n",
      "Music1            0.4628      0.039     12.014      0.000       0.387       0.538\n",
      "ONA               0.2611      0.034      7.675      0.000       0.194       0.328\n",
      "OVA               0.8606      0.020     42.111      0.000       0.821       0.901\n",
      "Special           0.9404      0.023     41.710      0.000       0.896       0.985\n",
      "TV                1.2075      0.019     64.980      0.000       1.171       1.244\n",
      "==============================================================================\n",
      "Omnibus:                      301.278   Durbin-Watson:                   1.976\n",
      "Prob(Omnibus):                  0.000   Jarque-Bera (JB):              447.800\n",
      "Skew:                          -0.293   Prob(JB):                     5.77e-98\n",
      "Kurtosis:                       3.817   Cond. No.                     9.10e+15\n",
      "==============================================================================\n",
      "\n",
      "Warnings:\n",
      "[1] Standard Errors assume that the covariance matrix of the errors is correctly specified.\n",
      "[2] The smallest eigenvalue is 2.22e-28. This might indicate that there are\n",
      "strong multicollinearity problems or that the design matrix is singular.\n"
     ]
    }
   ],
   "source": [
    "# Refit model: see how it fares\n",
    "X = sm.add_constant(inp_train_modified.astype(float))\n",
    "Y = label_train.astype(int)\n",
    "est = sm.OLS(Y, X)\n",
    "est2 = est.fit()\n",
    "print(est2.summary())"
   ]
  },
  {
   "cell_type": "markdown",
   "metadata": {},
   "source": [
    "However, for the sake of how big this project will turn, I shall not go in-depth into removing the variables, then evaluating, then testing, etc... The process however, if followed will eventually lead to the best outcome the model can reach."
   ]
  },
  {
   "cell_type": "markdown",
   "metadata": {},
   "source": [
    "## Step 6 Hyperparameter Tuning\n",
    "\n",
    "For this specific model, I plan to skip this step. This step remains here for the sake of completeness in the future."
   ]
  },
  {
   "cell_type": "markdown",
   "metadata": {},
   "source": [
    "## Step 7: Testing"
   ]
  },
  {
   "cell_type": "markdown",
   "metadata": {},
   "source": [
    "Looking at the predictions ourselves:"
   ]
  },
  {
   "cell_type": "code",
   "execution_count": 16,
   "metadata": {},
   "outputs": [
    {
     "name": "stdout",
     "output_type": "stream",
     "text": [
      "[[6.93286133]\n",
      " [6.88256836]\n",
      " [5.51391602]\n",
      " ...\n",
      " [6.83886719]\n",
      " [6.86279297]\n",
      " [6.546875  ]]\n",
      "       rating\n",
      "10722    5.45\n",
      "522      8.01\n",
      "6527     6.07\n",
      "       rating\n",
      "6621     6.03\n",
      "1059     7.70\n",
      "10234    6.25\n"
     ]
    }
   ],
   "source": [
    "# predict train dataset...\n",
    "print(linear_model.predict(inp_train))\n",
    "print(label_train.head(3))\n",
    "print(label_train.tail(3))"
   ]
  },
  {
   "cell_type": "markdown",
   "metadata": {},
   "source": [
    "It seems the model has fit the ratings quite well. Even tho the metrics do not show strong correlation, the model seems to have captured some important metrics in the training dataset!"
   ]
  },
  {
   "cell_type": "code",
   "execution_count": 17,
   "metadata": {
    "scrolled": true
   },
   "outputs": [
    {
     "name": "stdout",
     "output_type": "stream",
     "text": [
      "[[6.12744141]\n",
      " [5.51391602]\n",
      " [6.92016602]\n",
      " ...\n",
      " [6.47265625]\n",
      " [7.13427734]\n",
      " [5.10229492]]\n",
      "      rating\n",
      "3834    6.87\n",
      "6576    6.05\n",
      "5544    6.42\n",
      "      rating\n",
      "8654    5.25\n",
      "769     7.85\n",
      "6436    6.12\n"
     ]
    }
   ],
   "source": [
    "# predict test dataset...\n",
    "print(linear_model.predict(inp_test))\n",
    "print(label_test.head(3))\n",
    "print(label_test.tail(3))"
   ]
  },
  {
   "cell_type": "markdown",
   "metadata": {},
   "source": [
    "The same can be said for test set. However, something seems to be messing up the last 2 ratings, but showing only six is definitely not representative of the dataset. But it does show that the model is seeing something!"
   ]
  },
  {
   "cell_type": "markdown",
   "metadata": {},
   "source": [
    "# Part 2: Classification"
   ]
  },
  {
   "cell_type": "markdown",
   "metadata": {},
   "source": [
    "In this part, we try to use as much of the previous data as we can to do classification.\n",
    "\n",
    "Before we begin, this is our plan:\n",
    "\n",
    "We want to see if an anime is popular regardless of rating. An assumption that I hold against is that some people think that high ratings automatically mean it is popular. However, I want to disprove it by showing the following charts:"
   ]
  },
  {
   "cell_type": "code",
   "execution_count": 18,
   "metadata": {},
   "outputs": [
    {
     "data": {
      "image/png": "[encoded data removed]",
      "text/plain": [
       "<Figure size 432x288 with 1 Axes>"
      ]
     },
     "metadata": {
      "needs_background": "light"
     },
     "output_type": "display_data"
    }
   ],
   "source": [
    "# visualizing the dataset on a scatterplot\n",
    "plt.scatter(modified_dataset[['rating']], modified_dataset[['members']], color='blue')\n",
    "# The scatterplot shows that generally speaking high rating animes will have a higher probability to attract more people to watch it\n",
    "plt.show()"
   ]
  },
  {
   "cell_type": "markdown",
   "metadata": {},
   "source": [
    "Generally speaking, it is more probable that a movie will be popular if it has higher rating. However, looking at the outliers really infuriates me as some `anime` are rated `10` even though it is not popular. In fact, most popular shows are around the 8-9 ratings. However, those that are rated as 8-9 are not neccessarily good `anime` as evident by the massive amounts of datapoints concentrated at the 8-9 rating region!"
   ]
  },
  {
   "cell_type": "markdown",
   "metadata": {},
   "source": [
    "## Step 2: Data Preprocessing\n",
    "\n",
    "Our goal is to find out if an anime is popular or not depending on its `genre`, `type` and `ratings`. Hence, we will create a new column to categorize `members` and one for `cumulative ratings`. We first need to observe the dataset:"
   ]
  },
  {
   "cell_type": "markdown",
   "metadata": {},
   "source": [
    "Hence, I shall repeat step 2-7 again for my classification process"
   ]
  },
  {
   "cell_type": "code",
   "execution_count": 19,
   "metadata": {},
   "outputs": [
    {
     "data": {
      "text/html": [
       "<div>\n",
       "<style scoped>\n",
       "    .dataframe tbody tr th:only-of-type {\n",
       "        vertical-align: middle;\n",
       "    }\n",
       "\n",
       "    .dataframe tbody tr th {\n",
       "        vertical-align: top;\n",
       "    }\n",
       "\n",
       "    .dataframe thead th {\n",
       "        text-align: right;\n",
       "    }\n",
       "</style>\n",
       "<table border=\"1\" class=\"dataframe\">\n",
       "  <thead>\n",
       "    <tr style=\"text-align: right;\">\n",
       "      <th></th>\n",
       "      <th>anime_id</th>\n",
       "      <th>rating</th>\n",
       "      <th>members</th>\n",
       "    </tr>\n",
       "  </thead>\n",
       "  <tbody>\n",
       "    <tr>\n",
       "      <th>count</th>\n",
       "      <td>11830.000000</td>\n",
       "      <td>11830.000000</td>\n",
       "      <td>1.183000e+04</td>\n",
       "    </tr>\n",
       "    <tr>\n",
       "      <th>mean</th>\n",
       "      <td>13404.150211</td>\n",
       "      <td>6.484609</td>\n",
       "      <td>1.851100e+04</td>\n",
       "    </tr>\n",
       "    <tr>\n",
       "      <th>std</th>\n",
       "      <td>11110.087616</td>\n",
       "      <td>1.019147</td>\n",
       "      <td>5.537144e+04</td>\n",
       "    </tr>\n",
       "    <tr>\n",
       "      <th>min</th>\n",
       "      <td>1.000000</td>\n",
       "      <td>1.670000</td>\n",
       "      <td>1.200000e+01</td>\n",
       "    </tr>\n",
       "    <tr>\n",
       "      <th>25%</th>\n",
       "      <td>3326.250000</td>\n",
       "      <td>5.892500</td>\n",
       "      <td>2.322500e+02</td>\n",
       "    </tr>\n",
       "    <tr>\n",
       "      <th>50%</th>\n",
       "      <td>9820.500000</td>\n",
       "      <td>6.570000</td>\n",
       "      <td>1.589500e+03</td>\n",
       "    </tr>\n",
       "    <tr>\n",
       "      <th>75%</th>\n",
       "      <td>23302.500000</td>\n",
       "      <td>7.190000</td>\n",
       "      <td>9.832000e+03</td>\n",
       "    </tr>\n",
       "    <tr>\n",
       "      <th>max</th>\n",
       "      <td>34519.000000</td>\n",
       "      <td>10.000000</td>\n",
       "      <td>1.013917e+06</td>\n",
       "    </tr>\n",
       "  </tbody>\n",
       "</table>\n",
       "</div>"
      ],
      "text/plain": [
       "           anime_id        rating       members\n",
       "count  11830.000000  11830.000000  1.183000e+04\n",
       "mean   13404.150211      6.484609  1.851100e+04\n",
       "std    11110.087616      1.019147  5.537144e+04\n",
       "min        1.000000      1.670000  1.200000e+01\n",
       "25%     3326.250000      5.892500  2.322500e+02\n",
       "50%     9820.500000      6.570000  1.589500e+03\n",
       "75%    23302.500000      7.190000  9.832000e+03\n",
       "max    34519.000000     10.000000  1.013917e+06"
      ]
     },
     "execution_count": 19,
     "metadata": {},
     "output_type": "execute_result"
    }
   ],
   "source": [
    "# Seeing an executive summary of the dataset\n",
    "modified_dataset.describe()"
   ]
  },
  {
   "cell_type": "markdown",
   "metadata": {},
   "source": [
    "According to the info above, 50% of the `anime` are captured between `233` amount of raters and `9832` amount of raters, we will classify popularity as per follows:\n",
    "\n",
    "| Member count range | Category |\n",
    "| :------------------| -------: |\n",
    "| less than 233      | not popular|\n",
    "| 233 - 1,589        | somewhat popular|\n",
    "| 1,589 - 9,832      | trending|\n",
    "| 9,832 - inf        | popular|"
   ]
  },
  {
   "cell_type": "code",
   "execution_count": 20,
   "metadata": {},
   "outputs": [
    {
     "name": "stdout",
     "output_type": "stream",
     "text": [
      "0                 popular\n",
      "1                 popular\n",
      "2                 popular\n",
      "3                 popular\n",
      "4                 popular\n",
      "5                 popular\n",
      "6                 popular\n",
      "7                 popular\n",
      "8                 popular\n",
      "9                 popular\n",
      "10                popular\n",
      "11                popular\n",
      "12                popular\n",
      "13                popular\n",
      "14                popular\n",
      "15                popular\n",
      "16                popular\n",
      "17                popular\n",
      "18                popular\n",
      "19                popular\n",
      "20                popular\n",
      "21                popular\n",
      "22                popular\n",
      "23                popular\n",
      "24                popular\n",
      "25                popular\n",
      "26                popular\n",
      "27                popular\n",
      "28                popular\n",
      "29                popular\n",
      "               ...       \n",
      "12255         not popular\n",
      "12256         not popular\n",
      "12258         not popular\n",
      "12260    somewhat popular\n",
      "12262         not popular\n",
      "12263         not popular\n",
      "12264    somewhat popular\n",
      "12266    somewhat popular\n",
      "12267         not popular\n",
      "12268         not popular\n",
      "12269         not popular\n",
      "12270         not popular\n",
      "12271    somewhat popular\n",
      "12272         not popular\n",
      "12273         not popular\n",
      "12275         not popular\n",
      "12276         not popular\n",
      "12277         not popular\n",
      "12278         not popular\n",
      "12281         not popular\n",
      "12283         not popular\n",
      "12284         not popular\n",
      "12286         not popular\n",
      "12287         not popular\n",
      "12288         not popular\n",
      "12289         not popular\n",
      "12290         not popular\n",
      "12291         not popular\n",
      "12292         not popular\n",
      "12293         not popular\n",
      "Name: Popularity_a, Length: 11830, dtype: category\n",
      "Categories (4, object): [not popular < somewhat popular < trending < popular]\n"
     ]
    }
   ],
   "source": [
    "# Converting member count to \n",
    "import numpy as np\n",
    "bins = [0, 233, 1589, 9832, np.inf]\n",
    "names = ['not popular', 'somewhat popular', 'trending', 'popular']\n",
    "modified_dataset['Popularity_a'] = pd.cut(modified_dataset['members'], bins, labels = names) \n",
    "\n",
    "print(modified_dataset['Popularity_a'])"
   ]
  },
  {
   "cell_type": "markdown",
   "metadata": {},
   "source": [
    "Here we visualize the amounts of each category in the column"
   ]
  },
  {
   "cell_type": "code",
   "execution_count": 21,
   "metadata": {},
   "outputs": [
    {
     "name": "stdout",
     "output_type": "stream",
     "text": [
      "Popularity_a\n",
      "not popular         2961\n",
      "somewhat popular    2954\n",
      "trending            2957\n",
      "popular             2958\n",
      "dtype: int64\n"
     ]
    }
   ],
   "source": [
    "count = modified_dataset.groupby(['Popularity_a']).size()\n",
    "print(count)"
   ]
  },
  {
   "cell_type": "markdown",
   "metadata": {},
   "source": [
    "Similar to above and continue using the variables, we join the `rating` variable to the `inp`, then split into train and test data:\n"
   ]
  },
  {
   "cell_type": "markdown",
   "metadata": {},
   "source": [
    "However, the `members` class is difficult to be used as a an indicator of popularity\n",
    "\n",
    "Hence, we check the information of the `Cummulative Rating`, which is a multiplication of `members` and `rating`, in order to make a more \"accurate\" representation of popularity."
   ]
  },
  {
   "cell_type": "code",
   "execution_count": 22,
   "metadata": {},
   "outputs": [],
   "source": [
    "# Multiplying 'rating' column with 'members' column\n",
    "modified_dataset[['Cummulative Rating']] = np.multiply(modified_dataset[['rating']], modified_dataset[['members']])"
   ]
  },
  {
   "cell_type": "markdown",
   "metadata": {},
   "source": [
    "And we will also use this `Cummulative Rating` as an output to see training on which give better accuracy.\n",
    "\n",
    "We also need to define what value in `Cummulative Rating` is it considered a good anime. "
   ]
  },
  {
   "cell_type": "code",
   "execution_count": 23,
   "metadata": {},
   "outputs": [
    {
     "data": {
      "text/html": [
       "<div>\n",
       "<style scoped>\n",
       "    .dataframe tbody tr th:only-of-type {\n",
       "        vertical-align: middle;\n",
       "    }\n",
       "\n",
       "    .dataframe tbody tr th {\n",
       "        vertical-align: top;\n",
       "    }\n",
       "\n",
       "    .dataframe thead th {\n",
       "        text-align: right;\n",
       "    }\n",
       "</style>\n",
       "<table border=\"1\" class=\"dataframe\">\n",
       "  <thead>\n",
       "    <tr style=\"text-align: right;\">\n",
       "      <th></th>\n",
       "      <th>Cummulative Rating</th>\n",
       "    </tr>\n",
       "  </thead>\n",
       "  <tbody>\n",
       "    <tr>\n",
       "      <th>count</th>\n",
       "      <td>1.183000e+04</td>\n",
       "    </tr>\n",
       "    <tr>\n",
       "      <th>mean</th>\n",
       "      <td>1.421010e+05</td>\n",
       "    </tr>\n",
       "    <tr>\n",
       "      <th>std</th>\n",
       "      <td>4.499464e+05</td>\n",
       "    </tr>\n",
       "    <tr>\n",
       "      <th>min</th>\n",
       "      <td>3.600000e+01</td>\n",
       "    </tr>\n",
       "    <tr>\n",
       "      <th>25%</th>\n",
       "      <td>1.375043e+03</td>\n",
       "    </tr>\n",
       "    <tr>\n",
       "      <th>50%</th>\n",
       "      <td>1.006245e+04</td>\n",
       "    </tr>\n",
       "    <tr>\n",
       "      <th>75%</th>\n",
       "      <td>6.948894e+04</td>\n",
       "    </tr>\n",
       "    <tr>\n",
       "      <th>max</th>\n",
       "      <td>8.831217e+06</td>\n",
       "    </tr>\n",
       "  </tbody>\n",
       "</table>\n",
       "</div>"
      ],
      "text/plain": [
       "       Cummulative Rating\n",
       "count        1.183000e+04\n",
       "mean         1.421010e+05\n",
       "std          4.499464e+05\n",
       "min          3.600000e+01\n",
       "25%          1.375043e+03\n",
       "50%          1.006245e+04\n",
       "75%          6.948894e+04\n",
       "max          8.831217e+06"
      ]
     },
     "execution_count": 23,
     "metadata": {},
     "output_type": "execute_result"
    }
   ],
   "source": [
    "# See details of the dataset\n",
    "modified_dataset[['Cummulative Rating']].describe()"
   ]
  },
  {
   "cell_type": "markdown",
   "metadata": {},
   "source": [
    "We will again use the median to construct our new column:\n",
    "\n",
    "| Member count range | Ratings   | Cummulative Rating | Category |\n",
    "| :------------------|:-------:  |:------------------:| -------: |\n",
    "| less than 250      | 0-6.0     | 0-1,375            | not popular|\n",
    "| 250 - 2,000        | 6.5-7.0   | 1,375 - 10,062     | somewhat popular|\n",
    "| 2,000 - 10,000     | 7.0-8.0   | 10,062 - 69,489    | trending|,\n",
    "| 10,000 - 100,000   | 8.0-8.5   | 69,489 - 8,831,217 | popular|\n",
    "\n",
    "Hence we also do the following:"
   ]
  },
  {
   "cell_type": "code",
   "execution_count": 24,
   "metadata": {},
   "outputs": [
    {
     "name": "stdout",
     "output_type": "stream",
     "text": [
      "0            popular\n",
      "1            popular\n",
      "2            popular\n",
      "3            popular\n",
      "4            popular\n",
      "5            popular\n",
      "6            popular\n",
      "7            popular\n",
      "8            popular\n",
      "9            popular\n",
      "10           popular\n",
      "11           popular\n",
      "12           popular\n",
      "13           popular\n",
      "14           popular\n",
      "15           popular\n",
      "16           popular\n",
      "17           popular\n",
      "18           popular\n",
      "19           popular\n",
      "20           popular\n",
      "21           popular\n",
      "22           popular\n",
      "23           popular\n",
      "24           popular\n",
      "25           popular\n",
      "26           popular\n",
      "27           popular\n",
      "28           popular\n",
      "29           popular\n",
      "            ...     \n",
      "12255    not popular\n",
      "12256    not popular\n",
      "12258    not popular\n",
      "12260    not popular\n",
      "12262    not popular\n",
      "12263    not popular\n",
      "12264    not popular\n",
      "12266    not popular\n",
      "12267    not popular\n",
      "12268    not popular\n",
      "12269    not popular\n",
      "12270    not popular\n",
      "12271    not popular\n",
      "12272    not popular\n",
      "12273    not popular\n",
      "12275    not popular\n",
      "12276    not popular\n",
      "12277    not popular\n",
      "12278    not popular\n",
      "12281    not popular\n",
      "12283    not popular\n",
      "12284    not popular\n",
      "12286    not popular\n",
      "12287    not popular\n",
      "12288    not popular\n",
      "12289    not popular\n",
      "12290    not popular\n",
      "12291    not popular\n",
      "12292    not popular\n",
      "12293    not popular\n",
      "Name: Popularity_b, Length: 11830, dtype: category\n",
      "Categories (4, object): [not popular < somewhat popular < trending < popular]\n"
     ]
    }
   ],
   "source": [
    "# Converting 'Cummulative Rating' count to categories\n",
    "# taking the upper bound\n",
    "bins = [0, 1375, 10062, 69489, np.inf]\n",
    "names = ['not popular', 'somewhat popular', 'trending', 'popular']\n",
    "modified_dataset['Popularity_b'] = pd.cut(modified_dataset['members'], bins, labels = names) \n",
    "\n",
    "print(modified_dataset['Popularity_b'])"
   ]
  },
  {
   "cell_type": "markdown",
   "metadata": {},
   "source": [
    "Again, we view to ensure the amounts of `popular`, `trending`, `somewhat popular` and `not popular` are not the same"
   ]
  },
  {
   "cell_type": "code",
   "execution_count": 25,
   "metadata": {},
   "outputs": [
    {
     "name": "stdout",
     "output_type": "stream",
     "text": [
      "Popularity_b\n",
      "not popular         5659\n",
      "somewhat popular    3240\n",
      "trending            2090\n",
      "popular              841\n",
      "dtype: int64\n"
     ]
    }
   ],
   "source": [
    "count = modified_dataset.groupby(['Popularity_b']).size()\n",
    "print(count)"
   ]
  },
  {
   "cell_type": "markdown",
   "metadata": {},
   "source": [
    "In fact, we see a larger disparity between what is considered popular and what isn't."
   ]
  },
  {
   "cell_type": "markdown",
   "metadata": {},
   "source": [
    "Next, we split the datasets into test and train dataset. We will do a prediction on two different Popularity metrics, `Popularity_a` and `Popularity_b`."
   ]
  },
  {
   "cell_type": "code",
   "execution_count": 26,
   "metadata": {},
   "outputs": [],
   "source": [
    "# spliting data into test and training set\n",
    "inp_train, inp_test, label_train, label_test = train_test_split(inp, \n",
    "            modified_dataset[['Popularity_a']], test_size = 0.1, random_state = 1509)"
   ]
  },
  {
   "cell_type": "code",
   "execution_count": 27,
   "metadata": {},
   "outputs": [],
   "source": [
    "# spliting data into test and training set\n",
    "inp_train2, inp_test2, label_train2, label_test2 = train_test_split(inp, \n",
    "            modified_dataset[['Popularity_b']], test_size = 0.1, random_state = 1509)"
   ]
  },
  {
   "cell_type": "markdown",
   "metadata": {},
   "source": [
    "## Step 3: Model Selection\n",
    "\n",
    "From here, we have a few algorithms to choose from. We can use one of the three:\n",
    "1. `Random Forest`\n",
    "2. `Logistic Regression` <--chose this\n",
    "3. `KNN`"
   ]
  },
  {
   "cell_type": "markdown",
   "metadata": {},
   "source": [
    "## Step 4: Training\n",
    "\n",
    "Now, we will train our logistic regression model for first set of data:"
   ]
  },
  {
   "cell_type": "code",
   "execution_count": 28,
   "metadata": {},
   "outputs": [
    {
     "name": "stdout",
     "output_type": "stream",
     "text": [
      "LogisticRegression(C=1.0, class_weight=None, dual=False, fit_intercept=True,\n",
      "          intercept_scaling=1, max_iter=100, multi_class='auto',\n",
      "          n_jobs=None, penalty='l2', random_state=None, solver='liblinear',\n",
      "          tol=0.0001, verbose=0, warm_start=False)\n"
     ]
    }
   ],
   "source": [
    "from sklearn.linear_model import LogisticRegression\n",
    "\n",
    "logistic_model = LogisticRegression(solver='liblinear',multi_class='auto').fit(inp_train,label_train.values.ravel())\n",
    "print(logistic_model)"
   ]
  },
  {
   "cell_type": "markdown",
   "metadata": {},
   "source": [
    "Then for the second:"
   ]
  },
  {
   "cell_type": "code",
   "execution_count": 29,
   "metadata": {},
   "outputs": [
    {
     "name": "stdout",
     "output_type": "stream",
     "text": [
      "LogisticRegression(C=1.0, class_weight=None, dual=False, fit_intercept=True,\n",
      "          intercept_scaling=1, max_iter=100, multi_class='auto',\n",
      "          n_jobs=None, penalty='l2', random_state=None, solver='liblinear',\n",
      "          tol=0.0001, verbose=0, warm_start=False)\n"
     ]
    }
   ],
   "source": [
    "from sklearn.linear_model import LogisticRegression\n",
    "\n",
    "logistic_model2 = LogisticRegression(solver='liblinear',multi_class='auto').fit(inp_train2,label_train2.values.ravel())\n",
    "print(logistic_model2)"
   ]
  },
  {
   "cell_type": "markdown",
   "metadata": {},
   "source": [
    "## Step 5: Evaluation\n",
    "\n",
    "Here, I have decided to employ the superior version of `kfold`, the `stratified kfold`.\n",
    "\n",
    "Basically it shuffles the dataset evenly. >:D \n",
    "\n",
    "First, let's see the evalaution of `Logarithmic Loss` on the model based on training data"
   ]
  },
  {
   "cell_type": "code",
   "execution_count": 30,
   "metadata": {},
   "outputs": [
    {
     "name": "stdout",
     "output_type": "stream",
     "text": [
      "StratifiedKFold(n_splits=10, random_state=None, shuffle=False)\n",
      "Logistic Model 1 (train data): -1.0762135858224602\n"
     ]
    }
   ],
   "source": [
    "from sklearn.model_selection import StratifiedKFold\n",
    "from sklearn import model_selection\n",
    "\n",
    "# Trying stratified kfold\n",
    "stratifiedkfold = StratifiedKFold(n_splits = 10, random_state = None)\n",
    "# Splitting the dataset into n splits\n",
    "stratifiedkfold.get_n_splits(X = inp_train)\n",
    "print(stratifiedkfold)\n",
    "# obtaining the cross validation result\n",
    "result = model_selection.cross_val_score(logistic_model, inp_train, label_train.values.ravel(), cv=stratifiedkfold, scoring='neg_log_loss')\n",
    "print(\"Logistic Model 1 (train data):\", result.mean())"
   ]
  },
  {
   "cell_type": "markdown",
   "metadata": {},
   "source": [
    "The `Logarithmic Loss` is `-1.076216`.\n",
    "\n",
    "Now, let's do it based on the test data"
   ]
  },
  {
   "cell_type": "code",
   "execution_count": 31,
   "metadata": {},
   "outputs": [
    {
     "name": "stdout",
     "output_type": "stream",
     "text": [
      "StratifiedKFold(n_splits=10, random_state=None, shuffle=False)\n",
      "Logistic Model 1 (test data): -1.1069567344918734\n"
     ]
    }
   ],
   "source": [
    "# Stratified kfold on Test Data\n",
    "stratifiedkfold = StratifiedKFold(n_splits = 10, random_state = None)\n",
    "# Splitting the dataset into n splits\n",
    "stratifiedkfold.get_n_splits(X = inp_test)\n",
    "print(stratifiedkfold)\n",
    "# obtaining the cross validation result\n",
    "result = model_selection.cross_val_score(logistic_model, inp_test, label_test.values.ravel(),\n",
    "                                         cv=stratifiedkfold, scoring='neg_log_loss')\n",
    "print(\"Logistic Model 1 (test data):\", result.mean())"
   ]
  },
  {
   "cell_type": "markdown",
   "metadata": {},
   "source": [
    "The `Logarithmic Loss` is `-1.106957`."
   ]
  },
  {
   "cell_type": "code",
   "execution_count": 32,
   "metadata": {},
   "outputs": [
    {
     "name": "stdout",
     "output_type": "stream",
     "text": [
      "StratifiedKFold(n_splits=10, random_state=None, shuffle=False)\n",
      "Logistic Model 2 (train data): -0.9193801428168383\n"
     ]
    }
   ],
   "source": [
    "stratifiedkfold = StratifiedKFold(n_splits = 10, random_state = None)\n",
    "# Splitting the dataset into n splits\n",
    "stratifiedkfold.get_n_splits(X = inp_train2)\n",
    "print(stratifiedkfold)\n",
    "# obtaining the cross validation result\n",
    "result = model_selection.cross_val_score(logistic_model2, inp_train2, label_train2.values.ravel(), cv=stratifiedkfold, scoring='neg_log_loss')\n",
    "print(\"Logistic Model 2 (train data):\", result.mean())"
   ]
  },
  {
   "cell_type": "markdown",
   "metadata": {},
   "source": [
    "Now evaluating based on test data"
   ]
  },
  {
   "cell_type": "code",
   "execution_count": 33,
   "metadata": {},
   "outputs": [
    {
     "name": "stdout",
     "output_type": "stream",
     "text": [
      "StratifiedKFold(n_splits=10, random_state=None, shuffle=False)\n",
      "Logistic Model 2 (test data): -0.9723850853314977\n"
     ]
    }
   ],
   "source": [
    "stratifiedkfold = StratifiedKFold(n_splits = 10, random_state = None)\n",
    "# Splitting the dataset into n splits\n",
    "stratifiedkfold.get_n_splits(X = inp_train2)\n",
    "print(stratifiedkfold)\n",
    "# obtaining the cross validation result\n",
    "result = model_selection.cross_val_score(logistic_model2, inp_test2, label_test2.values.ravel(), cv=stratifiedkfold, scoring='neg_log_loss')\n",
    "print(\"Logistic Model 2 (test data):\",result.mean())"
   ]
  },
  {
   "cell_type": "markdown",
   "metadata": {},
   "source": [
    "The second model actually looks better, doesn't it?\n",
    "\n",
    "Let's visualize it on a confusion matrix:"
   ]
  },
  {
   "cell_type": "code",
   "execution_count": 34,
   "metadata": {},
   "outputs": [
    {
     "name": "stdout",
     "output_type": "stream",
     "text": [
      "Predicted         not popular  popular  somewhat popular  trending\n",
      "Actual                                                            \n",
      "not popular               794      754               310       579\n",
      "somewhat popular          761      699               259       526\n",
      "trending                  730      653               263       460\n",
      "popular                   875      821               302       627\n"
     ]
    },
    {
     "data": {
      "text/plain": [
       "<matplotlib.axes._subplots.AxesSubplot at 0x7f517ceea390>"
      ]
     },
     "execution_count": 34,
     "metadata": {},
     "output_type": "execute_result"
    },
    {
     "data": {
      "image/png": "[encoded data removed]",
      "text/plain": [
       "<Figure size 432x288 with 2 Axes>"
      ]
     },
     "metadata": {
      "needs_background": "light"
     },
     "output_type": "display_data"
    }
   ],
   "source": [
    "# Model 1\n",
    "import seaborn as sn\n",
    "label_pred = logistic_model.predict(inp_train)\n",
    "label_pred = pd.Series(label_pred, name='Predicted')\n",
    "label_train = pd.Series(label_train['Popularity_a'], name='Actual', index=label_train.index)\n",
    "# confusion matrix is created here\n",
    "model1_confusion = pd.crosstab(label_train, label_pred)\n",
    "print(model1_confusion)\n",
    "# plot with seaborn library\n",
    "sn.heatmap(model1_confusion, annot=True)"
   ]
  },
  {
   "cell_type": "code",
   "execution_count": 35,
   "metadata": {},
   "outputs": [
    {
     "name": "stdout",
     "output_type": "stream",
     "text": [
      "Predicted         not popular  popular  somewhat popular  trending\n",
      "Actual                                                            \n",
      "not popular              1492     1408               555      1064\n",
      "somewhat popular          798      708               280       506\n",
      "trending                  622      558               212       456\n",
      "popular                   248      253                87       166\n"
     ]
    },
    {
     "data": {
      "text/plain": [
       "<matplotlib.axes._subplots.AxesSubplot at 0x7f517ceb70b8>"
      ]
     },
     "execution_count": 35,
     "metadata": {},
     "output_type": "execute_result"
    },
    {
     "data": {
      "image/png": "[encoded data removed]",
      "text/plain": [
       "<Figure size 432x288 with 2 Axes>"
      ]
     },
     "metadata": {
      "needs_background": "light"
     },
     "output_type": "display_data"
    }
   ],
   "source": [
    "# Model 2\n",
    "label_pred2 = logistic_model.predict(inp_train2)\n",
    "label_pred2 = pd.Series(label_pred2, name='Predicted')\n",
    "label_train2 = pd.Series(label_train2['Popularity_b'], name='Actual', index=label_train2.index)\n",
    "# confusion matrix is created here\n",
    "model2_confusion = pd.crosstab(label_train2, label_pred2)\n",
    "print(model2_confusion)\n",
    "# Plot heatmap with seaborn library\n",
    "sn.heatmap(model2_confusion, annot=True)"
   ]
  },
  {
   "cell_type": "markdown",
   "metadata": {},
   "source": [
    "Now to analyze the evaluations:\n",
    "\n",
    "### Model 1:\n",
    "\n",
    "Model 1 has done some very bad generalizing. Everything is basically not popular. \n",
    "\n",
    "### Model 2:\n",
    "\n",
    "Looking row by row, we can observe the following:\n",
    "\n",
    "- a larger portion of `not popular` datapoints are classified as `not popular`, while coming in close second is classified as `popular`\n",
    "\n",
    "- a larger portion of `somewhat popular` datapoints are classified as `not popular`, while coming in close second is classified as `popular`\n",
    "\n",
    "- a larger portion of `trending` datapoints are classified as `not popular`, while coming in close second is classified as `popular`\n",
    "\n",
    "- a larger portion of `popular` datapoints are classified as `popular`, while coming in close second is classified as `not popular`\n",
    "\n",
    "from this, we can see that the model can capture some traits of popular anime and not popular anime. but everything in between works more poorly.\n",
    "\n",
    "We have to remember the criteria of \"popularity\" is created by yours truly, hence it could be (must be) my oversight when assigning the categories to each row. \n",
    "\n",
    "In actual deployment, this is unacceptable. The only course is to go back to step 3 and choose a different model.\n",
    "\n",
    "However, here we are left with the option to choose one of the two models we have. Since the second model can at least somehow differentiate `popular` and `not-popular` anime, choosing that is the only option."
   ]
  },
  {
   "cell_type": "markdown",
   "metadata": {},
   "source": [
    "## Step 6: Hyperparameter Tuning\n"
   ]
  },
  {
   "cell_type": "markdown",
   "metadata": {},
   "source": [
    "Due to the scale and magnitude of the project, I have decided to skip this segment. This step remains for the sake of completeness"
   ]
  },
  {
   "cell_type": "markdown",
   "metadata": {},
   "source": [
    "## Step 7: Prediction"
   ]
  },
  {
   "cell_type": "markdown",
   "metadata": {},
   "source": [
    "Applying the second model on the test data:"
   ]
  },
  {
   "cell_type": "code",
   "execution_count": 36,
   "metadata": {},
   "outputs": [
    {
     "name": "stdout",
     "output_type": "stream",
     "text": [
      "Predicted         not popular  popular  somewhat popular  trending\n",
      "Actual                                                            \n",
      "somewhat popular            5       11                 2         3\n",
      "trending                   16       17                 5        14\n",
      "popular                    24       19                 2         8\n"
     ]
    },
    {
     "data": {
      "text/plain": [
       "<matplotlib.axes._subplots.AxesSubplot at 0x7f517be7c240>"
      ]
     },
     "execution_count": 36,
     "metadata": {},
     "output_type": "execute_result"
    },
    {
     "data": {
      "image/png": "[encoded data removed]",
      "text/plain": [
       "<Figure size 432x288 with 2 Axes>"
      ]
     },
     "metadata": {
      "needs_background": "light"
     },
     "output_type": "display_data"
    }
   ],
   "source": [
    "# Model 2\n",
    "label_pred2 = logistic_model.predict(inp_test2)\n",
    "label_pred2 = pd.Series(label_pred2, name='Predicted')\n",
    "label_test2 = pd.Series(label_test2['Popularity_b'], name='Actual', index=label_test2.index)\n",
    "# confusion matrix is created here\n",
    "model2_confusion = pd.crosstab(label_test2, label_pred2)\n",
    "print(model2_confusion)\n",
    "# Plot heatmap with seaborn library\n",
    "sn.heatmap(model2_confusion, annot=True)"
   ]
  },
  {
   "cell_type": "markdown",
   "metadata": {},
   "source": [
    "As you can see form the number of rows in the confusion matrix, one column is left out, probably due to the uneven amounts of each category. But even the result to be honest is not as good as intended, in fact it is very bad. We should try a different algorithm instead. "
   ]
  },
  {
   "cell_type": "markdown",
   "metadata": {},
   "source": [
    "# Conclusion\n",
    "\n",
    "In conclusion, `linear regression` has been applied to predict the rating of an anime based on `genre` and `type` using dummy varaibles method where it will only take `1` or `0` values. The results could only explain a little more than 30% of the variance, hence is not the perfect model to predict the `rating` of an anime. More drastic measures need to be made in order to improve the model. Perhaps looking into what hyperparameters to tune, or even look for a different algorithm altogether.\n",
    "\n",
    "`Logistic Regression` was way too hard to employ on this dataset. The biggest issue I was facing was actually finding a good way to say which anime is `popular`. I have used the quartiles as a limit to determine what are the values to assign to the popularity of an `anime`. I have use the `kfold` and `confusion matrix` as my evaluation metrics and found the models generated to be too inefficient to be used. Maybe I should use an unsupervised approach to this segment.\n",
    "\n",
    "All in all, I have learnt a lot of Machine Learning from this assignment. Maybe predicting the market of `otaku`s is not that easy afterall. That being said, I think the model can be used to give a small test on an anime to give a brief overview. In the future, I may find better algorithms and hyperparameters to solve these problems."
   ]
  },
  {
   "cell_type": "markdown",
   "metadata": {},
   "source": [
    "# References\n",
    "\n",
    "Thanks to these links and articles, I am able to deliver this assignment\n",
    "\n",
    "Multiply columns: https://het.as.utexas.edu/HET/Software/Numpy/reference/generated/numpy.multiply.html\n",
    "\n",
    "scatter plot:https://pythonspot.com/matplotlib-scatterplot/\n",
    "\n",
    "Create dummy variables:https://pandas.pydata.org/pandas-docs/stable/reference/api/pandas.Series.str.get_dummies.html\n",
    "\n",
    "Finding Significant variables:https://stackoverflow.com/questions/27928275/find-p-value-significance-in-scikit-learn-linearregression\n",
    "\n",
    "Creating confusion matrix using pandas: https://stackoverflow.com/questions/2148543/how-to-write-a-confusion-matrix-in-python\n",
    "\n",
    "plotting using `seaborn` library:https://seaborn.pydata.org/generated/seaborn.heatmap.html\n",
    "\n",
    "Thanks for the open data! https://www.kaggle.com/CooperUnion/anime-recommendations-database/downloads/anime-recommendations-database.zip/1\n",
    "\n",
    "This is the 7 step that I employ, YufengGuo from Google: https://www.youtube.com/watch?v=nKW8Ndu7Mjw\n"
   ]
  }
 ],
 "metadata": {
  "kernelspec": {
   "display_name": "Python 3",
   "language": "python",
   "name": "python3"
  },
  "language_info": {
   "codemirror_mode": {
    "name": "ipython",
    "version": 3
   },
   "file_extension": ".py",
   "mimetype": "text/x-python",
   "name": "python",
   "nbconvert_exporter": "python",
   "pygments_lexer": "ipython3",
   "version": "3.7.3"
  }
 },
 "nbformat": 4,
 "nbformat_minor": 2
}
